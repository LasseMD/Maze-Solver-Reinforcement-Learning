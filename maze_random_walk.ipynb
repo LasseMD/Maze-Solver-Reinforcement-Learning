{
 "cells": [
  {
   "cell_type": "markdown",
   "id": "a82f7343",
   "metadata": {},
   "source": [
    "# maze_random_walk"
   ]
  },
  {
   "cell_type": "markdown",
   "id": "fb0e26fd",
   "metadata": {},
   "source": [
    "This Python script generates a maze represented as a 2D array of 0s and 1s, where 0s represent paths and 1s represent walls. It then simulates a random walk through the maze using reinforcement learning. The maze is traversed multiple times, and at each step, the agent chooses a direction based on a policy, with probabilities adjusted through reinforcement learning. The script visualizes the maze, the visited cells, and the policy's probabilities for each action at each position."
   ]
  },
  {
   "cell_type": "code",
   "execution_count": 1,
   "id": "553d8d66",
   "metadata": {},
   "outputs": [
    {
     "name": "stdout",
     "output_type": "stream",
     "text": [
      "Populating the interactive namespace from numpy and matplotlib\n"
     ]
    }
   ],
   "source": [
    "%pylab inline"
   ]
  },
  {
   "cell_type": "code",
   "execution_count": 2,
   "id": "48296446",
   "metadata": {},
   "outputs": [],
   "source": [
    "from pandas import *"
   ]
  },
  {
   "cell_type": "markdown",
   "id": "60688c98",
   "metadata": {},
   "source": [
    "Vi börjar med att skapa en Maze. Mazen representeras som en 2D-array av 0:or och 1:0r.\n",
    "- 0:or = Vägen\n",
    "- 1:or = Väggar\n",
    "\n",
    "Funktionen börjar med att skapa två listor.\n",
    "- Vis\n",
    "- Hor"
   ]
  },
  {
   "cell_type": "code",
   "execution_count": 3,
   "id": "aaf814a7",
   "metadata": {},
   "outputs": [
    {
     "name": "stdout",
     "output_type": "stream",
     "text": [
      "(17, 17)\n"
     ]
    },
    {
     "data": {
      "image/png": "[encoded data removed]",
      "text/plain": [
       "<Figure size 640x480 with 1 Axes>"
      ]
     },
     "metadata": {},
     "output_type": "display_data"
    }
   ],
   "source": [
    "\n",
    "def make_maze(w = 16, h = 8):\n",
    "    vis = [[0] * w + [1] for _ in range(h)] + [[1] * (w + 1)]\n",
    "    ver = [[\"10\"] * w + ['1'] for _ in range(h)] + [[]]\n",
    "    hor = [[\"11\"] * w + ['1'] for _ in range(h + 1)]\n",
    " \n",
    "    def walk(x, y):\n",
    "        vis[y][x] = 1\n",
    " \n",
    "        d = [(x - 1, y), (x, y + 1), (x + 1, y), (x, y - 1)]\n",
    "        shuffle(d)\n",
    "        for (xx, yy) in d:\n",
    "            if vis[yy][xx]: continue\n",
    "            if xx == x: hor[max(y, yy)][x] = \"10\"\n",
    "            if yy == y: ver[y][max(x, xx)] = \"00\"\n",
    "            walk(xx, yy)\n",
    " \n",
    "    walk(numpy.random.randint(w), numpy.random.randint(h))\n",
    " \n",
    "    s = \"\"\n",
    "    for (a, b) in zip(hor, ver):\n",
    "        s += ''.join(a + ['\\n'] + b + ['\\n'])\n",
    "        \n",
    "    M=[]\n",
    "    for line in s.split(\"\\n\"):\n",
    "        if line!=\"\":\n",
    "            R=[]\n",
    "            for e in line:\n",
    "                R.append(int(e))\n",
    "            M.append(R)\n",
    "    return M\n",
    " \n",
    "maze=numpy.array(make_maze(8,8))\n",
    "imshow(maze)\n",
    "#ylim(-0.5,16.5)\n",
    "print(maze.shape)"
   ]
  },
  {
   "cell_type": "code",
   "execution_count": 4,
   "id": "b4eca811",
   "metadata": {},
   "outputs": [
    {
     "name": "stdout",
     "output_type": "stream",
     "text": [
      "[[1 1 1 1 1 1 1 1 1 1 1 1 1 1 1 1 1]\n",
      " [1 0 0 0 1 0 0 0 1 0 0 0 0 0 0 0 1]\n",
      " [1 0 1 0 1 0 1 0 1 0 1 0 1 1 1 0 1]\n",
      " [1 0 1 0 0 0 1 0 1 0 1 0 0 0 1 0 1]\n",
      " [1 0 1 1 1 1 1 0 1 0 1 1 1 0 1 0 1]\n",
      " [1 0 1 0 1 0 0 0 1 0 1 0 0 0 1 0 1]\n",
      " [1 0 1 0 1 0 1 1 1 0 1 0 1 1 1 0 1]\n",
      " [1 0 1 0 1 0 0 0 0 0 1 0 1 0 0 0 1]\n",
      " [1 0 1 0 1 1 1 1 1 1 1 0 1 0 1 1 1]\n",
      " [1 0 0 0 0 0 1 0 0 0 0 0 1 0 0 0 1]\n",
      " [1 1 1 1 1 1 1 0 1 1 1 1 1 1 1 1 1]\n",
      " [1 0 0 0 0 0 0 0 1 0 0 0 0 0 0 0 1]\n",
      " [1 0 1 1 1 1 1 0 1 0 1 1 1 1 1 0 1]\n",
      " [1 0 1 0 0 0 0 0 1 0 1 0 0 0 1 0 1]\n",
      " [1 0 1 1 1 1 1 1 1 0 1 1 1 0 1 1 1]\n",
      " [1 0 0 0 0 0 0 0 0 0 0 0 0 0 0 0 1]\n",
      " [1 1 1 1 1 1 1 1 1 1 1 1 1 1 1 1 1]]\n"
     ]
    }
   ],
   "source": [
    "print(maze)"
   ]
  },
  {
   "cell_type": "markdown",
   "id": "092f3d5e",
   "metadata": {},
   "source": [
    "Denna kod representerar en slumpmässig (Random) gång genom Mazen.\n"
   ]
  },
  {
   "cell_type": "code",
   "execution_count": 5,
   "id": "6a91727f",
   "metadata": {
    "scrolled": true
   },
   "outputs": [
    {
     "name": "stdout",
     "output_type": "stream",
     "text": [
      "[0.22 0.26 0.26 0.26]\n",
      "2431.0 2431\n"
     ]
    },
    {
     "data": {
      "image/png": "[encoded data removed]",
      "text/plain": [
       "<Figure size 640x480 with 2 Axes>"
      ]
     },
     "metadata": {},
     "output_type": "display_data"
    }
   ],
   "source": [
    "# 2D Array med nollor som håller koll på vilka celler som har blivit besökta.\n",
    "visited=numpy.zeros((17,17))\n",
    "\n",
    "# Numpy Array som innehåller\n",
    "policy=numpy.array([0.22,0.26,0.26,0.26])\n",
    "print(policy)\n",
    "\n",
    "# Start position (1,1)\n",
    "x=1 #x-coor start position\n",
    "y=1 #y-coor start position\n",
    "\n",
    "# Lists för momments: höger, vänster, upp & ned.\n",
    "xm=[0,1,0,-1]\n",
    "ym=[1,0,-1,0]\n",
    "\n",
    "\n",
    "# track X & Y precis som det låter, från start position.\n",
    "trackX=[x]\n",
    "trackY=[y]\n",
    "\n",
    "# Markera start positionen som besökt/visited\n",
    "visited[x][y]=1\n",
    "# Så länge den nuvarande position inte är målet (15,15) fortsätt att köra.\n",
    "while x!=15 or y!=15:\n",
    "    direction=numpy.random.choice([0,1,2,3],p=policy)\n",
    "    # Välj en direction baserat på policy som är slumpmässig\n",
    "    \n",
    "    # Beräknar X & Y coordinat efter den har valt riktning/direction.\n",
    "    tx=x+xm[direction]\n",
    "    ty=y+ym[direction]\n",
    "    \n",
    "    # Ifall positionen inte är en vägg i vald riktning\n",
    "    if maze[tx][ty]==0:\n",
    "        \n",
    "        # Uppdatera X & Y coordinat av den nuvarande position.\n",
    "        x=tx\n",
    "        y=ty\n",
    "        \n",
    "        # Markera den nya position som besökt genom att öka motsvarande element i besökt/visited.\n",
    "        visited[x][y]+=1\n",
    "        \n",
    "        # Lägger till den nya X/Y coordinat till trackX & trackY\n",
    "        trackX.append(x)\n",
    "        trackY.append(y)\n",
    "        \n",
    "# Skapar en plot med 1row & 2cols, och select första elemntet i subplot        \n",
    "subplot(1,2,1)\n",
    "imshow(maze,cmap='gray')\n",
    "# Väljer det andra då det är 2 istället för 1.\n",
    "subplot(1,2,2)\n",
    "imshow(visited,cmap='gray',vmax=1)\n",
    "# Skriver ut det totala antalet of cells besökta och längend av TrackX listan.\n",
    "print(visited.sum(),len(trackX))"
   ]
  },
  {
   "cell_type": "code",
   "execution_count": 6,
   "id": "240ccf59",
   "metadata": {},
   "outputs": [
    {
     "name": "stdout",
     "output_type": "stream",
     "text": [
      "(17, 17, 4)\n",
      "[0.25 0.25 0.25 0.25]\n",
      "[0.25 0.25 0.25 0.25]\n",
      "[0. 0. 1. 0.]\n",
      "[0. 1. 0. 0.]\n"
     ]
    }
   ],
   "source": [
    "# Skapa en 3D-array \"policy\" med alla element inställda på 0.25 och en storlek på (17x17x4)\n",
    "# Skriver sedan ut formen, samt 1,1 & 1,3\n",
    "policy=numpy.ones((17,17,4))/4.0\n",
    "print(policy.shape)\n",
    "print(policy[1][1])\n",
    "print(policy[1][3])\n",
    "\n",
    "# Sätter elementen vid index 1,1 till [0,0,1,0] \n",
    "# Samt sätter elementen vid index 1,1 till [0,1,0,0]\n",
    "policy[1][1]=numpy.array([0.0,0.0,1.0,0.0])\n",
    "policy[1][3]=numpy.array([0.0,1.0,0.0,0.0])\n",
    "print(policy[1][1])\n",
    "print(policy[1][3])\n"
   ]
  },
  {
   "cell_type": "code",
   "execution_count": 7,
   "id": "af887254",
   "metadata": {},
   "outputs": [
    {
     "name": "stdout",
     "output_type": "stream",
     "text": [
      "4869.0 4869\n"
     ]
    },
    {
     "data": {
      "image/png": "[encoded data removed]",
      "text/plain": [
       "<Figure size 640x480 with 2 Axes>"
      ]
     },
     "metadata": {},
     "output_type": "display_data"
    }
   ],
   "source": [
    "# Igen: 2D Array med nollor som håller koll på vilka celler som har blivit besökta.\n",
    "visited=numpy.zeros((17,17))\n",
    "\n",
    "# Skapar en 3D array med alla element satta till 0.25\n",
    "policy=numpy.ones((17,17,4))/4.0\n",
    "\n",
    "# Ställer in Learningrate \n",
    "learningRate=0.01\n",
    "\n",
    "# X & Y coord för start position.\n",
    "x=1\n",
    "y=1\n",
    "\n",
    "# track X & Y precis som det låter, från start position.\n",
    "# Resterande är det samma som tidigare\n",
    "xm=[0,1,0,-1]\n",
    "ym=[1,0,-1,0]\n",
    "trackX=[x]\n",
    "trackY=[y]\n",
    "actions=[]\n",
    "visited[x][y]=1\n",
    "while x!=15 or y!=15:\n",
    "    direction=numpy.random.choice([0,1,2,3],p=policy[x][y])\n",
    "    tx=x+xm[direction]\n",
    "    ty=y+ym[direction]\n",
    "    if maze[tx][ty]==0:\n",
    "        x=tx\n",
    "        y=ty\n",
    "        visited[x][y]+=1\n",
    "        trackX.append(x)\n",
    "        trackY.append(y)\n",
    "        actions.append(direction)\n",
    "        \n",
    "        # Loopar igenom elements i actions list\n",
    "for i in range(len(actions)):\n",
    "    policy[trackX[i]][trackY[i]][actions[i]]+=learningRate\n",
    "    # Uppdatera policyn på motsvarande position och riktning\n",
    "    \n",
    "for i in range(17): # loopa igenom rows av policy array.\n",
    "    for j in range(17): # Loopa igenom cols\n",
    "        policy[i][j]/=policy[i][j].sum()\n",
    "        # Normalisera elementen i \"policy\"-arrayen\n",
    "        \n",
    "subplot(1,2,1)\n",
    "imshow(maze,cmap='gray')\n",
    "subplot(1,2,2)\n",
    "imshow(visited,cmap='gray')\n",
    "print(visited.sum(),len(trackX))"
   ]
  },
  {
   "cell_type": "code",
   "execution_count": 8,
   "id": "304f3b31",
   "metadata": {
    "scrolled": false
   },
   "outputs": [
    {
     "data": {
      "text/plain": [
       "[<matplotlib.lines.Line2D at 0x2018e95bbe0>]"
      ]
     },
     "execution_count": 8,
     "metadata": {},
     "output_type": "execute_result"
    },
    {
     "data": {
      "image/png": "[encoded data removed]",
      "text/plain": [
       "<Figure size 640x480 with 1 Axes>"
      ]
     },
     "metadata": {},
     "output_type": "display_data"
    }
   ],
   "source": [
    "# Skapar en 3D array med alla element satta till 0.25\n",
    "# Ställer in Learningrate \n",
    "policy=numpy.ones((17,17,4))/4.0\n",
    "learningRate=0.01\n",
    "\n",
    "\n",
    "# Loopar 200 gånger.\n",
    "'''mainloopen kommer att köras 200 gånger, och vid varje körning kommer den att följa en väg genom en labyrint representerad som ett 17x17 rutnät lagrat i en\n",
    "2D-array som kallas labyrint. Sökvägen lagras i listorna trackX och trackY, som registrerar de besökta x- och y-positionerna, och list actions, som registrerar \n",
    "de steg som vidtagits vid varje position.\n",
    "\n",
    "\n",
    "Variablerna x och y initieras till startpositionen för labyrinten (1,1). \n",
    "Variablerna xm och ym är listor som lagrar offseten för de fyra möjliga åtgärderna (upp, ner, vänster, höger). \n",
    "Listan som besöks är en 2D-array som håller reda på vilka positioner som har besökts under den aktuella körningen av loopen.\n",
    "listaction körs som en tom lista och startpositionen (1,1) markeras som besökt i den besökta arrayen.'''\n",
    "\n",
    "L=[]\n",
    "for i in range(200):\n",
    "    visited=numpy.zeros((17,17))\n",
    "    x=1\n",
    "    y=1\n",
    "    xm=[0,1,0,-1]\n",
    "    ym=[1,0,-1,0]\n",
    "    trackX=[x]\n",
    "    trackY=[y]\n",
    "    actions=[]\n",
    "    visited[x][y]=1\n",
    "    \n",
    "    #huvudloopen för Reinfocment learning algoritmen \n",
    "    #denna loop körs fram tills den är på slutpositionen \n",
    "   # Main loop of the reinforcement learning algorithm\n",
    "while x!=15 or y!=15:  # Fortsätt tills den aktuella positionen är målpositionen\n",
    "    # Välj en åtgärd enligt den aktuella policyn\n",
    "    direction = numpy.random.choice([0,1,2,3], p=policy[x][y])\n",
    "    \n",
    "    # Beräkna positionen som skulle nås genom att välja den valda åtgärden\n",
    "    tx = x + xm[direction]  # Ny x-position\n",
    "    ty = y + ym[direction]  # Ny y-position\n",
    "    \n",
    "    # If the new position is a valid position in the maze\n",
    "    if maze[tx][ty] == 0:\n",
    "        # Uppdatera den aktuella positionen\n",
    "        x = tx\n",
    "        y = ty\n",
    "        \n",
    "        # Markera den nya positionen som besökt\n",
    "        visited[x][y] += 1\n",
    "        \n",
    "        # Spara den valda åtgärden och den nya positionen\n",
    "        trackX.append(x)\n",
    "        trackY.append(y)\n",
    "        actions.append(direction)\n",
    "        \n",
    "# Loop through the elements in the \"actions\" list\n",
    "for i in range(len(actions)):\n",
    "    # Uppdatera policyn på motsvarande position och riktning\n",
    "    policy[trackX[i]][trackY[i]][actions[i]] += learningRate\n",
    "\n",
    "# Normalisera policyn så att sannolikheterna för alla åtgärder på varje position summerar till 1\n",
    "for i in range(17):\n",
    "    for j in range(17):\n",
    "        policy[i][j] /= policy[i][j].sum()\n",
    "\n",
    "# Lägg till längden på action-listan till L-listan\n",
    "L.append(len(actions))\n",
    "\n",
    "# Plotta L-listan\n",
    "plot(L)\n",
    "\n"
   ]
  },
  {
   "cell_type": "code",
   "execution_count": 9,
   "id": "d362471f",
   "metadata": {},
   "outputs": [
    {
     "name": "stdout",
     "output_type": "stream",
     "text": [
      "2026\n"
     ]
    },
    {
     "data": {
      "image/png": "[encoded data removed]",
      "text/plain": [
       "<Figure size 640x480 with 1 Axes>"
      ]
     },
     "metadata": {},
     "output_type": "display_data"
    }
   ],
   "source": [
    "imshow(visited)\n",
    "print(len(actions))"
   ]
  },
  {
   "cell_type": "markdown",
   "id": "f1c2cbba",
   "metadata": {},
   "source": [
    "len(actions) ger längden på listan actions, som innehåller åtgärderna som har tagits under en iteration av huvu\n",
    "\n",
    "dloop \n",
    "för förstärkningsinlärningsalgoritmen. print(len(actions)) kommer att skriva ut längden på action-listan."
   ]
  },
  {
   "cell_type": "code",
   "execution_count": 10,
   "id": "c66bd57c",
   "metadata": {},
   "outputs": [
    {
     "data": {
      "text/plain": [
       "<matplotlib.image.AxesImage at 0x2018e8b2460>"
      ]
     },
     "execution_count": 10,
     "metadata": {},
     "output_type": "execute_result"
    },
    {
     "data": {
      "image/png": "[encoded data removed]",
      "text/plain": [
       "<Figure size 640x480 with 1 Axes>"
      ]
     },
     "metadata": {},
     "output_type": "display_data"
    }
   ],
   "source": [
    "imshow(policy)"
   ]
  },
  {
   "cell_type": "code",
   "execution_count": null,
   "id": "9c1f33ca",
   "metadata": {},
   "outputs": [],
   "source": []
  }
 ],
 "metadata": {
  "kernelspec": {
   "display_name": "Python 3 (ipykernel)",
   "language": "python",
   "name": "python3"
  },
  "language_info": {
   "codemirror_mode": {
    "name": "ipython",
    "version": 3
   },
   "file_extension": ".py",
   "mimetype": "text/x-python",
   "name": "python",
   "nbconvert_exporter": "python",
   "pygments_lexer": "ipython3",
   "version": "3.9.13"
  }
 },
 "nbformat": 4,
 "nbformat_minor": 5
}
